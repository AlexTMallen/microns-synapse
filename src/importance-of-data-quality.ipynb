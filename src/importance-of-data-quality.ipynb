{
 "cells": [
  {
   "cell_type": "markdown",
   "id": "2a589732",
   "metadata": {},
   "source": [
    "# This Notebook tests the importance of having proofread cells\n",
    "## Compares the cumulative results of 2/3P pre-synaptic cells for various levels of cleanness\n",
    "- **clean**: basic level of proofreading - only pre-synaptic cell only proofread around the soma\n",
    "- **extended**: proofreading extends the entire length of the axon and dendrites. These cells (and clean cells) may still have errors in labeling which synapses are input vs. output, and there is probably not any proofreading of the targets.\n",
    "- **in column**: This analysis is performed only on the synapses formed within a certain proofread column, which means many (as of 7/13, about a fifth) of the targets have been proofread as well, and ALL OF THEM HAVE BEEN MANUALLY CELL TYPED."
   ]
  },
  {
   "cell_type": "markdown",
   "id": "d344b750",
   "metadata": {},
   "source": [
    "## Known proofreading-related issues/biases\n",
    "Excitatory cells tend to be falsely merged more often than inhibitory cells because of their spines\n",
    "\n",
    "**Are there biases in which cells have been proofread?**"
   ]
  },
  {
   "cell_type": "code",
   "execution_count": 1,
   "id": "9a031ff5",
   "metadata": {},
   "outputs": [],
   "source": [
    "import matplotlib.pyplot as plt\n",
    "import pandas as pd\n",
    "import numpy as np\n",
    "import os\n",
    "import json\n",
    "from datetime import datetime\n",
    "import warnings"
   ]
  },
  {
   "cell_type": "code",
   "execution_count": 2,
   "id": "c310d3c0",
   "metadata": {},
   "outputs": [],
   "source": [
    "cache_dir=\"..\\\\data\\\\\""
   ]
  },
  {
   "cell_type": "code",
   "execution_count": 8,
   "id": "3e44ae7d",
   "metadata": {},
   "outputs": [
    {
     "data": {
      "text/plain": [
       "dict_keys(['parameters', 'p_post_syn_type_given_pre', 'p_type_by_path_dists', 'p_type_by_euc_dists', 'euc_hists', 'path_hists', 'euc_densities', 'path_densities'])"
      ]
     },
     "execution_count": 8,
     "metadata": {},
     "output_type": "execute_result"
    }
   ],
   "source": [
    "results_dir = os.path.join(cache_dir, \"results\", \"23P-clean-subclass-col\")\n",
    "cumul_results_dir = os.path.join(results_dir, \"cumulative\")\n",
    "with open(os.path.join(cumul_results_dir, \"3_clean_cells_cumulative.json\")) as f:\n",
    "    col_results = json.loads(f.read())\n",
    "col_results.keys()"
   ]
  },
  {
   "cell_type": "code",
   "execution_count": 9,
   "id": "ce517458",
   "metadata": {},
   "outputs": [
    {
     "data": {
      "text/plain": [
       "[<matplotlib.lines.Line2D at 0x20188136f98>]"
      ]
     },
     "execution_count": 9,
     "metadata": {},
     "output_type": "execute_result"
    },
    {
     "data": {
      "image/png": "[encoded data removed]",
      "text/plain": [
       "<Figure size 432x288 with 1 Axes>"
      ]
     },
     "metadata": {
      "needs_background": "light"
     },
     "output_type": "display_data"
    }
   ],
   "source": [
    "plt.plot(col_results[\"p_type_by_path_dists\"][\"exc\"])"
   ]
  },
  {
   "cell_type": "code",
   "execution_count": null,
   "id": "9f8775be",
   "metadata": {},
   "outputs": [],
   "source": []
  }
 ],
 "metadata": {
  "kernelspec": {
   "display_name": "python37-env",
   "language": "python",
   "name": "python37-env"
  },
  "language_info": {
   "codemirror_mode": {
    "name": "ipython",
    "version": 3
   },
   "file_extension": ".py",
   "mimetype": "text/x-python",
   "name": "python",
   "nbconvert_exporter": "python",
   "pygments_lexer": "ipython3",
   "version": "3.7.0"
  }
 },
 "nbformat": 4,
 "nbformat_minor": 5
}
