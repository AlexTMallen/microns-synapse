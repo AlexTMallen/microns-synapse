{
 "cells": [
  {
   "cell_type": "markdown",
   "id": "ab4332a7",
   "metadata": {},
   "source": [
    "# This Notebook tests the importance of having proofread cells\n",
    "## Compares the cumulative results of 2/3P pre-synaptic cells for various levels of cleanness\n",
    "- **clean**: basic level of proofreading - only pre-synaptic cell only proofread around the soma\n",
    "- **extended**: proofreading extends the entire length of the axon and dendrites. These cells (and clean cells) may still have errors in labeling which synapses are input vs. output, and there is probably not any proofreading of the targets.\n",
    "- **manual cell typing (in column)**: This analysis is performed only on the synapses formed within a certain proofread column, which means many (as of 7/13, about a fifth) of the targets have been proofread as well, and ALL OF THEM HAVE BEEN MANUALLY CELL TYPED."
   ]
  },
  {
   "cell_type": "markdown",
   "id": "6e780474",
   "metadata": {},
   "source": [
    "## Known proofreading-related issues/biases\n",
    "Excitatory cells tend to be falsely merged more often than inhibitory cells because of their spines\n",
    "\n",
    "**Are there biases in which cells have been proofread?**"
   ]
  },
  {
   "cell_type": "markdown",
   "id": "83bc4355",
   "metadata": {},
   "source": [
    "# Manual vs. Automatic cell typing"
   ]
  },
  {
   "cell_type": "code",
   "execution_count": 1,
   "id": "2de01d9a",
   "metadata": {},
   "outputs": [],
   "source": [
    "import matplotlib.pyplot as plt\n",
    "import pandas as pd\n",
    "import numpy as np\n",
    "import os\n",
    "import json\n",
    "from datetime import datetime\n",
    "import warnings"
   ]
  },
  {
   "cell_type": "code",
   "execution_count": 2,
   "id": "c5824535",
   "metadata": {},
   "outputs": [],
   "source": [
    "cache_dir=\"..\\\\data\\\\\""
   ]
  },
  {
   "cell_type": "code",
   "execution_count": 10,
   "id": "7b10ba72",
   "metadata": {},
   "outputs": [
    {
     "data": {
      "text/plain": [
       "dict_keys(['parameters', 'p_post_syn_type_given_pre', 'p_type_by_path_dists', 'p_type_by_euc_dists', 'euc_hists', 'path_hists', 'euc_densities', 'path_densities'])"
      ]
     },
     "execution_count": 10,
     "metadata": {},
     "output_type": "execute_result"
    }
   ],
   "source": [
    "results_dir = os.path.join(cache_dir, \"results\", \"23P-clean-subclass-col\")\n",
    "manual_cumul_results_dir = os.path.join(results_dir, \"manual-cell-typing\", \"cumulative\")\n",
    "auto_cumul_results_dir = os.path.join(results_dir, \"auto-cell-typing\", \"cumulative\")\n",
    "with open(os.path.join(manual_cumul_results_dir, \"4_clean_cells_cumulative.json\")) as f:\n",
    "    manual_results = json.loads(f.read())\n",
    "with open(os.path.join(auto_cumul_results_dir, \"4_clean_cells_cumulative.json\")) as f:\n",
    "    auto_results = json.loads(f.read())\n",
    "manual_results.keys()"
   ]
  },
  {
   "cell_type": "code",
   "execution_count": null,
   "id": "dae2fbad",
   "metadata": {},
   "outputs": [],
   "source": []
  },
  {
   "cell_type": "code",
   "execution_count": 26,
   "id": "333f540c",
   "metadata": {},
   "outputs": [
    {
     "data": {
      "text/plain": [
       "{'BC': 0.2025974025974026,\n",
       " 'MC': 0.17662337662337663,\n",
       " 'BPC': 0.015584415584415584,\n",
       " 'NGC': 0.012987012987012988}"
      ]
     },
     "execution_count": 26,
     "metadata": {},
     "output_type": "execute_result"
    }
   ],
   "source": [
    "manual_n = 385  # = sum(sum(manual_results[\"euc_hists\"][t].values()) for t in manual_results[\"euc_hists\"]\n",
    "manual_results[\"p_post_syn_type_given_pre\"]  # n = 385"
   ]
  },
  {
   "cell_type": "code",
   "execution_count": 27,
   "id": "c2e850bb",
   "metadata": {},
   "outputs": [
    {
     "data": {
      "text/plain": [
       "{'BC': 0.19363395225464192,\n",
       " 'MC': 0.1962864721485411,\n",
       " 'BPC': 0.015915119363395226,\n",
       " 'NGC': 0.007957559681697613}"
      ]
     },
     "execution_count": 27,
     "metadata": {},
     "output_type": "execute_result"
    }
   ],
   "source": [
    "auto_n = 377  # = sum(sum(auto_results[\"euc_hists\"][t].values()) for t in auto_results[\"euc_hists\"]\n",
    "auto_results[\"p_post_syn_type_given_pre\"]  # n = 377"
   ]
  },
  {
   "cell_type": "code",
   "execution_count": 28,
   "id": "7843086c",
   "metadata": {},
   "outputs": [
    {
     "data": {
      "text/plain": [
       "0.02077922077922078"
      ]
     },
     "execution_count": 28,
     "metadata": {},
     "output_type": "execute_result"
    }
   ],
   "source": [
    "p = (manual_n - auto_n) / manual_n\n",
    "p"
   ]
  },
  {
   "cell_type": "code",
   "execution_count": 29,
   "id": "7f3b5bda",
   "metadata": {},
   "outputs": [
    {
     "data": {
      "text/plain": [
       "0.014539670681002079"
      ]
     },
     "execution_count": 29,
     "metadata": {},
     "output_type": "execute_result"
    }
   ],
   "source": [
    "2 * np.sqrt(p * (1 - p) / manual_n)  # TODO correction because only 8 successes also this isn't even right because the cells may not even be the same. Use precision and recall"
   ]
  },
  {
   "cell_type": "markdown",
   "id": "60322799",
   "metadata": {},
   "source": [
    "There are 2.1% ($\\pm $1.5) fewer neurons according to the nucleus neuron SVM model than reality. \n",
    "\n",
    "If you look at the entire column: Manual validation performed on a column of 1316 nuclei in Minnie65 measured a recall of .996 and a precision of .969."
   ]
  },
  {
   "cell_type": "code",
   "execution_count": 24,
   "id": "1e775b5a",
   "metadata": {},
   "outputs": [
    {
     "data": {
      "text/plain": [
       "{'BC': 73.0, 'MC': 74.0, 'BPC': 6.0, 'NGC': 3.0}"
      ]
     },
     "execution_count": 24,
     "metadata": {},
     "output_type": "execute_result"
    }
   ],
   "source": [
    "auto_n_by_type = dict((t, auto_results[\"p_post_syn_type_given_pre\"][t] * 377) for t in auto_results[\"p_post_syn_type_given_pre\"])\n",
    "auto_n_by_type"
   ]
  },
  {
   "cell_type": "code",
   "execution_count": 25,
   "id": "7a095f3c",
   "metadata": {},
   "outputs": [
    {
     "data": {
      "text/plain": [
       "{'BC': 78.0, 'MC': 68.0, 'BPC': 6.0, 'NGC': 5.0}"
      ]
     },
     "execution_count": 25,
     "metadata": {},
     "output_type": "execute_result"
    }
   ],
   "source": [
    "manual_n_by_type = dict((t, manual_results[\"p_post_syn_type_given_pre\"][t] * 385) for t in manual_results[\"p_post_syn_type_given_pre\"])\n",
    "manual_n_by_type"
   ]
  },
  {
   "cell_type": "code",
   "execution_count": 34,
   "id": "c008d101",
   "metadata": {},
   "outputs": [
    {
     "name": "stdout",
     "output_type": "stream",
     "text": [
      "BC 0.0641025641025641 pm 0.05546698041918816\n",
      "MC 0.08823529411764706 pm 0.06879202543969219\n",
      "BPC 0.0 pm 0.0\n",
      "NGC 0.4 pm 0.4381780460041329\n"
     ]
    }
   ],
   "source": [
    "for ctype in manual_results[\"p_post_syn_type_given_pre\"]:\n",
    "    type_p = abs(manual_n_by_type[ctype] - auto_n_by_type[ctype]) / manual_n_by_type[ctype]\n",
    "    print(ctype, type_p, \"pm\", 2 * np.sqrt(type_p * (1 - type_p) / manual_n_by_type[ctype]))  # TODO correction because only 8 successes"
   ]
  },
  {
   "cell_type": "code",
   "execution_count": null,
   "id": "73470879",
   "metadata": {},
   "outputs": [],
   "source": []
  },
  {
   "cell_type": "code",
   "execution_count": null,
   "id": "90a01986",
   "metadata": {},
   "outputs": [],
   "source": []
  }
 ],
 "metadata": {
  "kernelspec": {
   "display_name": "python37-env",
   "language": "python",
   "name": "python37-env"
  },
  "language_info": {
   "codemirror_mode": {
    "name": "ipython",
    "version": 3
   },
   "file_extension": ".py",
   "mimetype": "text/x-python",
   "name": "python",
   "nbconvert_exporter": "python",
   "pygments_lexer": "ipython3",
   "version": "3.7.0"
  }
 },
 "nbformat": 4,
 "nbformat_minor": 5
}
