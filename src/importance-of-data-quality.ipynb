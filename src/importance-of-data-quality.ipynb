{
 "cells": [
  {
   "cell_type": "markdown",
   "id": "507da029",
   "metadata": {},
   "source": [
    "# This Notebook tests the importance of having proofread cells\n",
    "## Compares the cumulative results of 2/3P pre-synaptic cells for various levels of cleanness\n",
    "- **clean**: basic level of proofreading - only pre-synaptic cell only proofread around the soma\n",
    "- **extended**: proofreading extends the entire length of the axon and dendrites. These cells (and clean cells) may still have errors in labeling which synapses are input vs. output, and there is probably not any proofreading of the targets.\n",
    "- **manual cell typing (in column)**: This analysis is performed only on the synapses formed within a certain proofread column, which means many (as of 7/13, about a fifth) of the targets have been proofread as well, and ALL OF THEM HAVE BEEN MANUALLY CELL TYPED."
   ]
  },
  {
   "cell_type": "markdown",
   "id": "cef47c21",
   "metadata": {},
   "source": [
    "## Known proofreading-related issues/biases\n",
    "Excitatory cells tend to be falsely merged more often than inhibitory cells because of their spines\n",
    "\n",
    "**Are there biases in which cells have been proofread?**"
   ]
  },
  {
   "cell_type": "markdown",
   "id": "66d01c17",
   "metadata": {},
   "source": [
    "# Manual vs. Automatic cell typing"
   ]
  },
  {
   "cell_type": "code",
   "execution_count": 1,
   "id": "b2c8cf63",
   "metadata": {},
   "outputs": [],
   "source": [
    "import matplotlib.pyplot as plt\n",
    "import pandas as pd\n",
    "import numpy as np\n",
    "import os\n",
    "import json\n",
    "from datetime import datetime\n",
    "import warnings"
   ]
  },
  {
   "cell_type": "code",
   "execution_count": 2,
   "id": "f6793d4a",
   "metadata": {},
   "outputs": [],
   "source": [
    "cache_dir=\"..\\\\data\\\\\""
   ]
  },
  {
   "cell_type": "code",
   "execution_count": 10,
   "id": "ab1f6e72",
   "metadata": {},
   "outputs": [
    {
     "data": {
      "text/plain": [
       "dict_keys(['parameters', 'p_post_syn_type_given_pre', 'p_type_by_path_dists', 'p_type_by_euc_dists', 'euc_hists', 'path_hists', 'euc_densities', 'path_densities'])"
      ]
     },
     "execution_count": 10,
     "metadata": {},
     "output_type": "execute_result"
    }
   ],
   "source": [
    "results_dir = os.path.join(cache_dir, \"results\", \"23P-clean-subclass-col\")\n",
    "manual_cumul_results_dir = os.path.join(results_dir, \"manual-cell-typing\", \"cumulative\")\n",
    "auto_cumul_results_dir = os.path.join(results_dir, \"auto-cell-typing\", \"cumulative\")\n",
    "with open(os.path.join(manual_cumul_results_dir, \"4_clean_cells_cumulative.json\")) as f:\n",
    "    manual_results = json.loads(f.read())\n",
    "with open(os.path.join(auto_cumul_results_dir, \"4_clean_cells_cumulative.json\")) as f:\n",
    "    auto_results = json.loads(f.read())\n",
    "manual_results.keys()"
   ]
  },
  {
   "cell_type": "code",
   "execution_count": 11,
   "id": "0787085e",
   "metadata": {},
   "outputs": [
    {
     "data": {
      "text/plain": [
       "{'BC': 0.2025974025974026,\n",
       " 'MC': 0.17662337662337663,\n",
       " 'BPC': 0.015584415584415584,\n",
       " 'NGC': 0.012987012987012988}"
      ]
     },
     "execution_count": 11,
     "metadata": {},
     "output_type": "execute_result"
    }
   ],
   "source": [
    "manual_results[\"p_post_syn_type_given_pre\"]  # n = 385"
   ]
  },
  {
   "cell_type": "code",
   "execution_count": 12,
   "id": "343cf8fe",
   "metadata": {},
   "outputs": [
    {
     "data": {
      "text/plain": [
       "{'BC': 0.19363395225464192,\n",
       " 'MC': 0.1962864721485411,\n",
       " 'BPC': 0.015915119363395226,\n",
       " 'NGC': 0.007957559681697613}"
      ]
     },
     "execution_count": 12,
     "metadata": {},
     "output_type": "execute_result"
    }
   ],
   "source": [
    "auto_results[\"p_post_syn_type_given_pre\"]  # n = 377"
   ]
  },
  {
   "cell_type": "code",
   "execution_count": 19,
   "id": "430236d0",
   "metadata": {},
   "outputs": [
    {
     "data": {
      "text/plain": [
       "-0.02077922077922078"
      ]
     },
     "execution_count": 19,
     "metadata": {},
     "output_type": "execute_result"
    }
   ],
   "source": [
    "(sum(sum(auto_results[\"euc_hists\"][t].values()) for t in auto_results[\"euc_hists\"]) - 385) / 385"
   ]
  }
 ],
 "metadata": {
  "kernelspec": {
   "display_name": "python37-env",
   "language": "python",
   "name": "python37-env"
  },
  "language_info": {
   "codemirror_mode": {
    "name": "ipython",
    "version": 3
   },
   "file_extension": ".py",
   "mimetype": "text/x-python",
   "name": "python",
   "nbconvert_exporter": "python",
   "pygments_lexer": "ipython3",
   "version": "3.7.0"
  }
 },
 "nbformat": 4,
 "nbformat_minor": 5
}
